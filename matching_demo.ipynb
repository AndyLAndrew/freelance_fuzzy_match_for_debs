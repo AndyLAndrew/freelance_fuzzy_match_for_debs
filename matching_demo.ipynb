{
 "cells": [
  {
   "cell_type": "code",
   "execution_count": 2,
   "id": "initial_id",
   "metadata": {
    "collapsed": true,
    "ExecuteTime": {
     "end_time": "2024-02-20T05:17:51.891143Z",
     "start_time": "2024-02-20T05:17:50.646971Z"
    }
   },
   "outputs": [],
   "source": [
    "import pandas as pd\n",
    "import multiprocessing # for high speed action!\n",
    "from polyfuzz import PolyFuzz"
   ]
  },
  {
   "cell_type": "code",
   "execution_count": 4,
   "outputs": [],
   "source": [
    "final_clean_fr = pd.read_csv(\"data/final_clean_subset.csv\")\n",
    "agency_ref_fr = pd.read_csv(\"data/agency_reference_list.csv\")\n",
    "final_clean_dict = pd.read_csv(\"data/final_clean_dictionary.csv\")\n"
   ],
   "metadata": {
    "collapsed": false,
    "ExecuteTime": {
     "end_time": "2024-02-20T05:17:59.424686Z",
     "start_time": "2024-02-20T05:17:59.301956Z"
    }
   },
   "id": "6f2ed1c19ac5146d"
  },
  {
   "cell_type": "code",
   "execution_count": 17,
   "outputs": [
    {
     "data": {
      "text/plain": "     State                   Agencies_involved                    Ori\n0       AK  ALASKA DEPARTMENT OF PUBLIC SAFETY              AKAST2100\n1       AK      ALASKA STATE POLICE DEPARTMENT              AKAST0100\n2       AK                ALASKA STATE TROOPER             AKAST0100 \n3       AK               ALASKA STATE TROOPERS              AKAST0100\n4       AK         ANCHORAGE POLICE DEPARTMENT              AK0010100\n...    ...                                 ...                    ...\n5702    TN                 US MARSHALS SERVICE  U.S. MARSHALS SERVICE\n5703    WA         GRANDVIEW POLICE DEPARTMENT              WA0390100\n5704    KS          STERLING POLICE DEPARTMENT              KS0800200\n5705    LA                 US MARSHALS SERVICE  U.S. MARSHALS SERVICE\n5706    KS             LYONS POLICE DEPARTMENT              KS0800100\n\n[5707 rows x 3 columns]",
      "text/html": "<div>\n<style scoped>\n    .dataframe tbody tr th:only-of-type {\n        vertical-align: middle;\n    }\n\n    .dataframe tbody tr th {\n        vertical-align: top;\n    }\n\n    .dataframe thead th {\n        text-align: right;\n    }\n</style>\n<table border=\"1\" class=\"dataframe\">\n  <thead>\n    <tr style=\"text-align: right;\">\n      <th></th>\n      <th>State</th>\n      <th>Agencies_involved</th>\n      <th>Ori</th>\n    </tr>\n  </thead>\n  <tbody>\n    <tr>\n      <th>0</th>\n      <td>AK</td>\n      <td>ALASKA DEPARTMENT OF PUBLIC SAFETY</td>\n      <td>AKAST2100</td>\n    </tr>\n    <tr>\n      <th>1</th>\n      <td>AK</td>\n      <td>ALASKA STATE POLICE DEPARTMENT</td>\n      <td>AKAST0100</td>\n    </tr>\n    <tr>\n      <th>2</th>\n      <td>AK</td>\n      <td>ALASKA STATE TROOPER</td>\n      <td>AKAST0100</td>\n    </tr>\n    <tr>\n      <th>3</th>\n      <td>AK</td>\n      <td>ALASKA STATE TROOPERS</td>\n      <td>AKAST0100</td>\n    </tr>\n    <tr>\n      <th>4</th>\n      <td>AK</td>\n      <td>ANCHORAGE POLICE DEPARTMENT</td>\n      <td>AK0010100</td>\n    </tr>\n    <tr>\n      <th>...</th>\n      <td>...</td>\n      <td>...</td>\n      <td>...</td>\n    </tr>\n    <tr>\n      <th>5702</th>\n      <td>TN</td>\n      <td>US MARSHALS SERVICE</td>\n      <td>U.S. MARSHALS SERVICE</td>\n    </tr>\n    <tr>\n      <th>5703</th>\n      <td>WA</td>\n      <td>GRANDVIEW POLICE DEPARTMENT</td>\n      <td>WA0390100</td>\n    </tr>\n    <tr>\n      <th>5704</th>\n      <td>KS</td>\n      <td>STERLING POLICE DEPARTMENT</td>\n      <td>KS0800200</td>\n    </tr>\n    <tr>\n      <th>5705</th>\n      <td>LA</td>\n      <td>US MARSHALS SERVICE</td>\n      <td>U.S. MARSHALS SERVICE</td>\n    </tr>\n    <tr>\n      <th>5706</th>\n      <td>KS</td>\n      <td>LYONS POLICE DEPARTMENT</td>\n      <td>KS0800100</td>\n    </tr>\n  </tbody>\n</table>\n<p>5707 rows × 3 columns</p>\n</div>"
     },
     "execution_count": 17,
     "metadata": {},
     "output_type": "execute_result"
    }
   ],
   "source": [
    "final_clean_dict.rename(columns={'State': 'State', 'Ori_split8': 'Ori', 'Agency8' : 'Agencies_involved'}, inplace=True)\n",
    "final_clean_dict"
   ],
   "metadata": {
    "collapsed": false,
    "ExecuteTime": {
     "end_time": "2024-02-20T05:22:48.702629Z",
     "start_time": "2024-02-20T05:22:48.697358Z"
    }
   },
   "id": "54c234164b6b18d7"
  },
  {
   "cell_type": "code",
   "execution_count": 5,
   "outputs": [],
   "source": [
    "# need to convert NaNs to 0 so the matcher can accept all character types\n",
    "def fillna_col(column_list, final_clean):\n",
    "    for name in column_list:\n",
    "        final_clean[name].fillna('0', inplace=True)"
   ],
   "metadata": {
    "collapsed": false,
    "ExecuteTime": {
     "end_time": "2024-02-20T04:34:37.545139Z",
     "start_time": "2024-02-20T04:34:37.540950Z"
    }
   },
   "id": "9871be9ae5ca3a5b"
  },
  {
   "cell_type": "code",
   "execution_count": 6,
   "outputs": [],
   "source": [
    "def dictionary_storage_state(final_clean, agency_ref):\n",
    "    unmatched_dict = {}\n",
    "    ref_dict = {}\n",
    "    \n",
    "    for state in final_clean[\"State\"].unique().tolist(): # for each state\n",
    "        # for unmatched\n",
    "        unmatched_dict[state] = []\n",
    "        unmatched_dict[state].append(final_clean[final_clean[\"State\"] == state])\n",
    "        \n",
    "        # for ref\n",
    "        ref_dict[state] = []\n",
    "        ref_dict[state].append(agency_ref[agency_ref[\"State\"] == state])\n",
    "    return ref_dict, unmatched_dict"
   ],
   "metadata": {
    "collapsed": false,
    "ExecuteTime": {
     "end_time": "2024-02-20T04:34:37.729771Z",
     "start_time": "2024-02-20T04:34:37.726889Z"
    }
   },
   "id": "391aee9a91c63dfe"
  },
  {
   "cell_type": "code",
   "execution_count": 7,
   "outputs": [],
   "source": [
    "# to conduct fuzzy matching, we will need to loop and rewrite using lists\n",
    "# new dictionary needed\n",
    "def fuzzy_match_process(agency_col, ref_dict, unmatched_dict, modeltype, threshold, final_clean):\n",
    "    \n",
    "    matched_dict = {}\n",
    "    for state in final_clean[\"State\"].unique().tolist():\n",
    "        from_list = unmatched_dict[state][0][agency_col].tolist() # generating lists\n",
    "        to_list = ref_dict[state][0][\"Agencies_involved\"].tolist()\n",
    "        \n",
    "        # needed to add a null check as some states have 0 names to try unfortunately\n",
    "        if not all(item == \"0\" for item in from_list): \n",
    "            model = PolyFuzz(modeltype) # initializing model\n",
    "            model.match(from_list, to_list) # begin matching\n",
    "            match_dict = model.get_matches() # grab matches\n",
    "        \n",
    "            # filter based on threshold\n",
    "            templist = [b if similarity > threshold else a for a, b, similarity in zip(match_dict[\"From\"], match_dict[\"To\"], match_dict[\"Similarity\"])]\n",
    "            matched_dict[state] = [unmatched_dict[state][0].index.tolist(), unmatched_dict[state][0][\"State\"].tolist(), templist, match_dict[\"Similarity\"].tolist()] # add back into dictionary for state\n",
    "        else:\n",
    "            matched_dict[state] = [unmatched_dict[state][0].index.tolist(), unmatched_dict[state][0][\"State\"].tolist(), from_list, from_list] \n",
    "            # add back\n",
    "        \n",
    "    return matched_dict"
   ],
   "metadata": {
    "collapsed": false,
    "ExecuteTime": {
     "end_time": "2024-02-20T04:34:37.929788Z",
     "start_time": "2024-02-20T04:34:37.924597Z"
    }
   },
   "id": "a0c193cf8b2c96f5"
  },
  {
   "cell_type": "code",
   "execution_count": 8,
   "outputs": [],
   "source": [
    "def dataframe_generator(matched_dict, column_append_name, final_clean):\n",
    "    matched_dataframe = pd.concat([pd.DataFrame(matched_dict[key]).T.set_axis(['Col1', 'state', 'fuzzy_matched', 'similarity'], axis=1) for key in matched_dict], keys=matched_dict.keys())\n",
    "    # Set 'Col1' as the index\n",
    "    matched_dataframe.set_index('Col1', inplace=True)\n",
    "    matched_dataframe.index.name = None  # Remove the index name\n",
    "    matched_dataframe.sort_index(inplace=True) # sort to keep the right order\n",
    "    final_clean.sort_index(inplace=True) # do the same to final_clean\n",
    "    \n",
    "    # adding cols to final_clean\n",
    "    fuzzy_match_name = \"fuzzy_matched\" + \"_\" + column_append_name\n",
    "    similarity_name = \"similarity\" + \"_\" + column_append_name\n",
    "    final_clean[fuzzy_match_name] = matched_dataframe['fuzzy_matched']\n",
    "    final_clean[similarity_name] = matched_dataframe['similarity']\n",
    "    \n",
    "    return final_clean"
   ],
   "metadata": {
    "collapsed": false,
    "ExecuteTime": {
     "end_time": "2024-02-20T04:34:38.189783Z",
     "start_time": "2024-02-20T04:34:38.187745Z"
    }
   },
   "id": "68f857faed06b8bf"
  },
  {
   "cell_type": "code",
   "execution_count": 16,
   "outputs": [],
   "source": [
    "# lastly we need to do a light merge over of any missing Ori's\n",
    "# this will take some time...\n",
    "def merging_func(ori_col, fuzzy_matched_agency_col, similarity_col, final_clean, agency_ref):\n",
    "    match, nomatch = 0, 0\n",
    "    \n",
    "    tracking = len(final_clean[final_clean[ori_col].isna()][[ori_col, 'State', fuzzy_matched_agency_col, similarity_col]])\n",
    "    count_track = 0\n",
    "\n",
    "    for index, row in final_clean[final_clean[ori_col].isna()][[ori_col, 'State', fuzzy_matched_agency_col, similarity_col]].iterrows():\n",
    "        if count_track % 1000 == 0: print(f\"working...{count_track} of {tracking} for {ori_col}\")\n",
    "        # print(row['Ori'], row['State'], row['fuzzy_matched'], row['similarity'])\n",
    "        # we will now recursively search through all possible matches\n",
    "        # there are better ways to do this, but for now, this will do to help reduce some NaNs\n",
    "        # Check for exact match in agency_ref\n",
    "        try: \n",
    "            mask = (agency_ref['State'] == row['State']) & (agency_ref['Agencies_involved'].str.upper() == row[fuzzy_matched_agency_col].upper())\n",
    "            matching_rows = agency_ref[mask]\n",
    "            if not matching_rows.empty:\n",
    "                updated_ori_value = matching_rows.iloc[0]['Ori']\n",
    "                match += 1\n",
    "                final_clean.at[index, ori_col] = updated_ori_value\n",
    "            else: nomatch += 1\n",
    "            count_track+= 1 # to keep track of progress\n",
    "        except AttributeError:\n",
    "            # Handle the case where 'State' or 'Agencies_involved' might be NaN\n",
    "            # You can choose to print a message or take other actions as needed\n",
    "            print(f\"Error: NaN values found in 'State' or 'Agencies_involved' at index {index}\")\n",
    "    # Reporting progress\n",
    "    print(\"Ori Matches Found: \", match, \"\\n Ori unmatched remaining: \", nomatch)\n",
    "    print(\"Remaining missing observations:\", final_clean[ori_col].isna().sum())\n",
    "    return final_clean"
   ],
   "metadata": {
    "collapsed": false,
    "ExecuteTime": {
     "end_time": "2024-02-20T04:38:21.581396Z",
     "start_time": "2024-02-20T04:38:21.577539Z"
    }
   },
   "id": "c4880c34d8ecf20d"
  },
  {
   "cell_type": "code",
   "execution_count": 17,
   "outputs": [],
   "source": [
    "# Putting it all together:\n",
    "def full_run(param_list):\n",
    "    algorithm, thresh = param_list\n",
    "    final_clean_fr = pd.read_csv(\"data/final_clean_subset.csv\")\n",
    "    agency_ref_fr = pd.read_csv(\"data/agency_reference_list.csv\")\n",
    "    \n",
    "    # generating the list of columns we wish to match to our agency reference\n",
    "    column_list_for_func = [\"Agency\" + str(i) for i in range(1,9)]\n",
    "    \n",
    "    # switching nans to 0\n",
    "    fillna_col(column_list_for_func, final_clean_fr)\n",
    "    \n",
    "    # dictionary to store each state for individual fuzzy matching\n",
    "    ref, nonmatch = dictionary_storage_state(final_clean_fr, agency_ref_fr)\n",
    "    \n",
    "    # conducting fuzzy matching\n",
    "    list_of_agency_dicts = [fuzzy_match_process(agency_col=x, ref_dict=ref, unmatched_dict=nonmatch, modeltype=algorithm, threshold=thresh, final_clean=final_clean_fr) for x in column_list_for_func]\n",
    "    \n",
    "    # generate new dataframes\n",
    "    for agency_dict, column_name in zip(list_of_agency_dicts, column_list_for_func):\n",
    "        final_clean_fr = dataframe_generator(agency_dict, column_name, final_clean_fr)\n",
    "        \n",
    "    # generating lists of column names to iterate through\n",
    "    fuzzy_match_list = [\"fuzzy_matched_Agency\" + str(i) for i in range(1,9)]\n",
    "    ori_col_list = [\"Ori_split\" + str(i) for i in range(1,9)]\n",
    "    similarity_col_list = [\"similarity_Agency\" + str(i) for i in range(1,9)]\n",
    "    \n",
    "    # running function\n",
    "    for ori, fuzzy, simm in zip(ori_col_list, fuzzy_match_list, similarity_col_list):\n",
    "        final_clean_fr = merging_func(ori, fuzzy, simm, final_clean_fr, agency_ref_fr)\n",
    "    \n",
    "    # saving to csv\n",
    "    string_temp = \"matched_replaced_\" + str(int(thresh*100)) + \"_tfidf.csv\"\n",
    "    final_clean_fr.to_csv(string_temp)\n",
    "    \n",
    "    # cleaning up\n",
    "    del final_clean_fr, agency_ref_fr"
   ],
   "metadata": {
    "collapsed": false,
    "ExecuteTime": {
     "end_time": "2024-02-20T04:38:21.918186Z",
     "start_time": "2024-02-20T04:38:21.915675Z"
    }
   },
   "id": "d72e0e869faac776"
  },
  {
   "cell_type": "code",
   "execution_count": 18,
   "outputs": [],
   "source": [
    "def maintain_workers(queue, jobs):\n",
    "    while True:\n",
    "        core = queue.get()\n",
    "        if core is None:\n",
    "            break\n",
    "        jobs[core].start()\n",
    "        jobs[core].join()\n",
    "        queue.put(core)"
   ],
   "metadata": {
    "collapsed": false,
    "ExecuteTime": {
     "end_time": "2024-02-20T04:38:22.380250Z",
     "start_time": "2024-02-20T04:38:22.378208Z"
    }
   },
   "id": "a2e53e0c85a4cc33"
  },
  {
   "cell_type": "code",
   "execution_count": 19,
   "outputs": [],
   "source": [
    "def main():\n",
    "    # pulling number of cores to send jobs to\n",
    "    num_cores = (\n",
    "        multiprocessing.cpu_count()\n",
    "    )\n",
    "    available_cores = multiprocessing.Queue()\n",
    "    # readying cores\n",
    "    for _ in range(num_cores):\n",
    "        available_cores.put(None)\n",
    "    print(f\"Machine has {num_cores}\")\n",
    "    \n",
    "    # generating our lists of params\n",
    "    grid_search_list = [[\"TF-IDF\", 0.7],\n",
    "                        [\"TF-IDF\", 0.8],\n",
    "                        [\"TF-IDF\", 0.9],\n",
    "                        [\"TF-IDF\", 0.95],\n",
    "                        [\"TF-IDF\", 1.0]]\n",
    "    \n",
    "    with multiprocessing.Pool(processes = num_cores) as pool:\n",
    "        pool.map(full_run, grid_search_list)"
   ],
   "metadata": {
    "collapsed": false,
    "ExecuteTime": {
     "end_time": "2024-02-20T04:38:22.730730Z",
     "start_time": "2024-02-20T04:38:22.729123Z"
    }
   },
   "id": "7a24a8ee08678c47"
  },
  {
   "cell_type": "code",
   "execution_count": 20,
   "outputs": [
    {
     "name": "stdout",
     "output_type": "stream",
     "text": [
      "Machine has 10\n"
     ]
    },
    {
     "name": "stderr",
     "output_type": "stream",
     "text": [
      "Process SpawnPoolWorker-16:\n",
      "Traceback (most recent call last):\n",
      "Process SpawnPoolWorker-17:\n",
      "Traceback (most recent call last):\n",
      "Process SpawnPoolWorker-18:\n",
      "Traceback (most recent call last):\n",
      "  File \"/Users/andy/.pyenv/versions/3.11.6/lib/python3.11/multiprocessing/process.py\", line 314, in _bootstrap\n",
      "    self.run()\n",
      "  File \"/Users/andy/.pyenv/versions/3.11.6/lib/python3.11/multiprocessing/process.py\", line 108, in run\n",
      "    self._target(*self._args, **self._kwargs)\n",
      "  File \"/Users/andy/.pyenv/versions/3.11.6/lib/python3.11/multiprocessing/pool.py\", line 114, in worker\n",
      "    task = get()\n",
      "           ^^^^^\n",
      "  File \"/Users/andy/.pyenv/versions/3.11.6/lib/python3.11/multiprocessing/queues.py\", line 367, in get\n",
      "    return _ForkingPickler.loads(res)\n",
      "           ^^^^^^^^^^^^^^^^^^^^^^^^^^\n",
      "AttributeError: Can't get attribute 'full_run' on <module '__main__' (built-in)>\n",
      "  File \"/Users/andy/.pyenv/versions/3.11.6/lib/python3.11/multiprocessing/process.py\", line 314, in _bootstrap\n",
      "    self.run()\n",
      "  File \"/Users/andy/.pyenv/versions/3.11.6/lib/python3.11/multiprocessing/process.py\", line 108, in run\n",
      "    self._target(*self._args, **self._kwargs)\n",
      "  File \"/Users/andy/.pyenv/versions/3.11.6/lib/python3.11/multiprocessing/pool.py\", line 114, in worker\n",
      "    task = get()\n",
      "           ^^^^^\n",
      "  File \"/Users/andy/.pyenv/versions/3.11.6/lib/python3.11/multiprocessing/queues.py\", line 367, in get\n",
      "    return _ForkingPickler.loads(res)\n",
      "           ^^^^^^^^^^^^^^^^^^^^^^^^^^\n",
      "AttributeError: Can't get attribute 'full_run' on <module '__main__' (built-in)>\n",
      "Process SpawnPoolWorker-19:\n",
      "Traceback (most recent call last):\n",
      "  File \"/Users/andy/.pyenv/versions/3.11.6/lib/python3.11/multiprocessing/process.py\", line 314, in _bootstrap\n",
      "    self.run()\n",
      "  File \"/Users/andy/.pyenv/versions/3.11.6/lib/python3.11/multiprocessing/process.py\", line 108, in run\n",
      "    self._target(*self._args, **self._kwargs)\n",
      "  File \"/Users/andy/.pyenv/versions/3.11.6/lib/python3.11/multiprocessing/pool.py\", line 114, in worker\n",
      "    task = get()\n",
      "           ^^^^^\n",
      "  File \"/Users/andy/.pyenv/versions/3.11.6/lib/python3.11/multiprocessing/queues.py\", line 367, in get\n",
      "    return _ForkingPickler.loads(res)\n",
      "           ^^^^^^^^^^^^^^^^^^^^^^^^^^\n",
      "AttributeError: Can't get attribute 'full_run' on <module '__main__' (built-in)>\n",
      "Process SpawnPoolWorker-20:\n",
      "Traceback (most recent call last):\n",
      "  File \"/Users/andy/.pyenv/versions/3.11.6/lib/python3.11/multiprocessing/process.py\", line 314, in _bootstrap\n",
      "    self.run()\n",
      "  File \"/Users/andy/.pyenv/versions/3.11.6/lib/python3.11/multiprocessing/process.py\", line 108, in run\n",
      "    self._target(*self._args, **self._kwargs)\n",
      "  File \"/Users/andy/.pyenv/versions/3.11.6/lib/python3.11/multiprocessing/pool.py\", line 114, in worker\n",
      "    task = get()\n",
      "           ^^^^^\n",
      "  File \"/Users/andy/.pyenv/versions/3.11.6/lib/python3.11/multiprocessing/queues.py\", line 367, in get\n",
      "    return _ForkingPickler.loads(res)\n",
      "           ^^^^^^^^^^^^^^^^^^^^^^^^^^\n",
      "AttributeError: Can't get attribute 'full_run' on <module '__main__' (built-in)>\n",
      "  File \"/Users/andy/.pyenv/versions/3.11.6/lib/python3.11/multiprocessing/process.py\", line 314, in _bootstrap\n",
      "    self.run()\n",
      "  File \"/Users/andy/.pyenv/versions/3.11.6/lib/python3.11/multiprocessing/process.py\", line 108, in run\n",
      "    self._target(*self._args, **self._kwargs)\n",
      "  File \"/Users/andy/.pyenv/versions/3.11.6/lib/python3.11/multiprocessing/pool.py\", line 114, in worker\n",
      "    task = get()\n",
      "           ^^^^^\n",
      "  File \"/Users/andy/.pyenv/versions/3.11.6/lib/python3.11/multiprocessing/queues.py\", line 367, in get\n",
      "    return _ForkingPickler.loads(res)\n",
      "           ^^^^^^^^^^^^^^^^^^^^^^^^^^\n",
      "AttributeError: Can't get attribute 'full_run' on <module '__main__' (built-in)>\n",
      "Process SpawnPoolWorker-27:\n",
      "Process SpawnPoolWorker-29:\n",
      "Process SpawnPoolWorker-28:\n",
      "Process SpawnPoolWorker-25:\n",
      "Process SpawnPoolWorker-24:\n",
      "Process SpawnPoolWorker-30:\n",
      "Process SpawnPoolWorker-23:\n",
      "Process SpawnPoolWorker-22:\n",
      "Process SpawnPoolWorker-26:\n",
      "Traceback (most recent call last):\n",
      "Traceback (most recent call last):\n",
      "Traceback (most recent call last):\n",
      "Process SpawnPoolWorker-21:\n",
      "Traceback (most recent call last):\n",
      "Traceback (most recent call last):\n",
      "Traceback (most recent call last):\n",
      "Traceback (most recent call last):\n",
      "Traceback (most recent call last):\n",
      "Traceback (most recent call last):\n",
      "Traceback (most recent call last):\n",
      "  File \"/Users/andy/.pyenv/versions/3.11.6/lib/python3.11/multiprocessing/process.py\", line 314, in _bootstrap\n",
      "    self.run()\n",
      "  File \"/Users/andy/.pyenv/versions/3.11.6/lib/python3.11/multiprocessing/process.py\", line 108, in run\n",
      "    self._target(*self._args, **self._kwargs)\n",
      "  File \"/Users/andy/.pyenv/versions/3.11.6/lib/python3.11/multiprocessing/pool.py\", line 114, in worker\n",
      "    task = get()\n",
      "           ^^^^^\n",
      "  File \"/Users/andy/.pyenv/versions/3.11.6/lib/python3.11/multiprocessing/queues.py\", line 364, in get\n",
      "    with self._rlock:\n",
      "  File \"/Users/andy/.pyenv/versions/3.11.6/lib/python3.11/multiprocessing/synchronize.py\", line 95, in __enter__\n",
      "    return self._semlock.__enter__()\n",
      "           ^^^^^^^^^^^^^^^^^^^^^^^^^\n",
      "KeyboardInterrupt\n",
      "  File \"/Users/andy/.pyenv/versions/3.11.6/lib/python3.11/multiprocessing/process.py\", line 314, in _bootstrap\n",
      "    self.run()\n",
      "  File \"/Users/andy/.pyenv/versions/3.11.6/lib/python3.11/multiprocessing/process.py\", line 108, in run\n",
      "    self._target(*self._args, **self._kwargs)\n",
      "  File \"/Users/andy/.pyenv/versions/3.11.6/lib/python3.11/multiprocessing/pool.py\", line 114, in worker\n",
      "    task = get()\n",
      "           ^^^^^\n",
      "  File \"/Users/andy/.pyenv/versions/3.11.6/lib/python3.11/multiprocessing/queues.py\", line 364, in get\n",
      "    with self._rlock:\n",
      "  File \"/Users/andy/.pyenv/versions/3.11.6/lib/python3.11/multiprocessing/synchronize.py\", line 95, in __enter__\n",
      "    return self._semlock.__enter__()\n",
      "           ^^^^^^^^^^^^^^^^^^^^^^^^^\n",
      "KeyboardInterrupt\n",
      "  File \"/Users/andy/.pyenv/versions/3.11.6/lib/python3.11/multiprocessing/process.py\", line 314, in _bootstrap\n",
      "    self.run()\n",
      "  File \"/Users/andy/.pyenv/versions/3.11.6/lib/python3.11/multiprocessing/process.py\", line 108, in run\n",
      "    self._target(*self._args, **self._kwargs)\n",
      "  File \"/Users/andy/.pyenv/versions/3.11.6/lib/python3.11/multiprocessing/pool.py\", line 114, in worker\n",
      "    task = get()\n",
      "           ^^^^^\n",
      "  File \"/Users/andy/.pyenv/versions/3.11.6/lib/python3.11/multiprocessing/queues.py\", line 364, in get\n",
      "    with self._rlock:\n",
      "  File \"/Users/andy/.pyenv/versions/3.11.6/lib/python3.11/multiprocessing/synchronize.py\", line 95, in __enter__\n",
      "    return self._semlock.__enter__()\n",
      "           ^^^^^^^^^^^^^^^^^^^^^^^^^\n",
      "KeyboardInterrupt\n",
      "  File \"/Users/andy/.pyenv/versions/3.11.6/lib/python3.11/multiprocessing/process.py\", line 314, in _bootstrap\n",
      "    self.run()\n",
      "  File \"/Users/andy/.pyenv/versions/3.11.6/lib/python3.11/multiprocessing/process.py\", line 108, in run\n",
      "    self._target(*self._args, **self._kwargs)\n",
      "  File \"/Users/andy/.pyenv/versions/3.11.6/lib/python3.11/multiprocessing/pool.py\", line 114, in worker\n",
      "    task = get()\n",
      "           ^^^^^\n",
      "  File \"/Users/andy/.pyenv/versions/3.11.6/lib/python3.11/multiprocessing/queues.py\", line 364, in get\n",
      "    with self._rlock:\n",
      "  File \"/Users/andy/.pyenv/versions/3.11.6/lib/python3.11/multiprocessing/synchronize.py\", line 95, in __enter__\n",
      "    return self._semlock.__enter__()\n",
      "           ^^^^^^^^^^^^^^^^^^^^^^^^^\n",
      "KeyboardInterrupt\n",
      "  File \"/Users/andy/.pyenv/versions/3.11.6/lib/python3.11/multiprocessing/process.py\", line 314, in _bootstrap\n",
      "    self.run()\n",
      "  File \"/Users/andy/.pyenv/versions/3.11.6/lib/python3.11/multiprocessing/process.py\", line 108, in run\n",
      "    self._target(*self._args, **self._kwargs)\n",
      "  File \"/Users/andy/.pyenv/versions/3.11.6/lib/python3.11/multiprocessing/pool.py\", line 114, in worker\n",
      "    task = get()\n",
      "           ^^^^^\n",
      "  File \"/Users/andy/.pyenv/versions/3.11.6/lib/python3.11/multiprocessing/queues.py\", line 364, in get\n",
      "    with self._rlock:\n",
      "  File \"/Users/andy/.pyenv/versions/3.11.6/lib/python3.11/multiprocessing/synchronize.py\", line 95, in __enter__\n",
      "    return self._semlock.__enter__()\n",
      "           ^^^^^^^^^^^^^^^^^^^^^^^^^\n",
      "KeyboardInterrupt\n",
      "  File \"/Users/andy/.pyenv/versions/3.11.6/lib/python3.11/multiprocessing/process.py\", line 314, in _bootstrap\n",
      "    self.run()\n",
      "  File \"/Users/andy/.pyenv/versions/3.11.6/lib/python3.11/multiprocessing/process.py\", line 108, in run\n",
      "    self._target(*self._args, **self._kwargs)\n",
      "  File \"/Users/andy/.pyenv/versions/3.11.6/lib/python3.11/multiprocessing/pool.py\", line 114, in worker\n",
      "    task = get()\n",
      "           ^^^^^\n",
      "  File \"/Users/andy/.pyenv/versions/3.11.6/lib/python3.11/multiprocessing/queues.py\", line 364, in get\n",
      "    with self._rlock:\n",
      "  File \"/Users/andy/.pyenv/versions/3.11.6/lib/python3.11/multiprocessing/synchronize.py\", line 95, in __enter__\n",
      "    return self._semlock.__enter__()\n",
      "           ^^^^^^^^^^^^^^^^^^^^^^^^^\n",
      "KeyboardInterrupt\n",
      "  File \"/Users/andy/.pyenv/versions/3.11.6/lib/python3.11/multiprocessing/process.py\", line 314, in _bootstrap\n",
      "    self.run()\n",
      "  File \"/Users/andy/.pyenv/versions/3.11.6/lib/python3.11/multiprocessing/process.py\", line 108, in run\n",
      "    self._target(*self._args, **self._kwargs)\n",
      "  File \"/Users/andy/.pyenv/versions/3.11.6/lib/python3.11/multiprocessing/pool.py\", line 114, in worker\n",
      "    task = get()\n",
      "           ^^^^^\n",
      "  File \"/Users/andy/.pyenv/versions/3.11.6/lib/python3.11/multiprocessing/queues.py\", line 365, in get\n",
      "    res = self._reader.recv_bytes()\n",
      "          ^^^^^^^^^^^^^^^^^^^^^^^^^\n",
      "  File \"/Users/andy/.pyenv/versions/3.11.6/lib/python3.11/multiprocessing/connection.py\", line 216, in recv_bytes\n",
      "    buf = self._recv_bytes(maxlength)\n",
      "          ^^^^^^^^^^^^^^^^^^^^^^^^^^^\n",
      "  File \"/Users/andy/.pyenv/versions/3.11.6/lib/python3.11/multiprocessing/connection.py\", line 430, in _recv_bytes\n",
      "    buf = self._recv(4)\n",
      "          ^^^^^^^^^^^^^\n",
      "  File \"/Users/andy/.pyenv/versions/3.11.6/lib/python3.11/multiprocessing/connection.py\", line 395, in _recv\n",
      "    chunk = read(handle, remaining)\n",
      "            ^^^^^^^^^^^^^^^^^^^^^^^\n",
      "KeyboardInterrupt\n",
      "  File \"/Users/andy/.pyenv/versions/3.11.6/lib/python3.11/multiprocessing/process.py\", line 314, in _bootstrap\n",
      "    self.run()\n",
      "  File \"/Users/andy/.pyenv/versions/3.11.6/lib/python3.11/multiprocessing/process.py\", line 314, in _bootstrap\n",
      "    self.run()\n",
      "  File \"/Users/andy/.pyenv/versions/3.11.6/lib/python3.11/multiprocessing/process.py\", line 108, in run\n",
      "    self._target(*self._args, **self._kwargs)\n",
      "  File \"/Users/andy/.pyenv/versions/3.11.6/lib/python3.11/multiprocessing/pool.py\", line 114, in worker\n",
      "    task = get()\n",
      "           ^^^^^\n",
      "  File \"/Users/andy/.pyenv/versions/3.11.6/lib/python3.11/multiprocessing/queues.py\", line 364, in get\n",
      "    with self._rlock:\n",
      "  File \"/Users/andy/.pyenv/versions/3.11.6/lib/python3.11/multiprocessing/synchronize.py\", line 95, in __enter__\n",
      "    return self._semlock.__enter__()\n",
      "           ^^^^^^^^^^^^^^^^^^^^^^^^^\n",
      "  File \"/Users/andy/.pyenv/versions/3.11.6/lib/python3.11/multiprocessing/process.py\", line 108, in run\n",
      "    self._target(*self._args, **self._kwargs)\n",
      "  File \"/Users/andy/.pyenv/versions/3.11.6/lib/python3.11/multiprocessing/pool.py\", line 114, in worker\n",
      "    task = get()\n",
      "           ^^^^^\n",
      "  File \"/Users/andy/.pyenv/versions/3.11.6/lib/python3.11/multiprocessing/queues.py\", line 364, in get\n",
      "    with self._rlock:\n",
      "KeyboardInterrupt\n",
      "  File \"/Users/andy/.pyenv/versions/3.11.6/lib/python3.11/multiprocessing/synchronize.py\", line 95, in __enter__\n",
      "    return self._semlock.__enter__()\n",
      "           ^^^^^^^^^^^^^^^^^^^^^^^^^\n",
      "KeyboardInterrupt\n",
      "  File \"/Users/andy/.pyenv/versions/3.11.6/lib/python3.11/multiprocessing/process.py\", line 314, in _bootstrap\n",
      "    self.run()\n",
      "  File \"/Users/andy/.pyenv/versions/3.11.6/lib/python3.11/multiprocessing/process.py\", line 108, in run\n",
      "    self._target(*self._args, **self._kwargs)\n",
      "  File \"/Users/andy/.pyenv/versions/3.11.6/lib/python3.11/multiprocessing/pool.py\", line 114, in worker\n",
      "    task = get()\n",
      "           ^^^^^\n",
      "  File \"/Users/andy/.pyenv/versions/3.11.6/lib/python3.11/multiprocessing/queues.py\", line 364, in get\n",
      "    with self._rlock:\n",
      "  File \"/Users/andy/.pyenv/versions/3.11.6/lib/python3.11/multiprocessing/synchronize.py\", line 95, in __enter__\n",
      "    return self._semlock.__enter__()\n",
      "           ^^^^^^^^^^^^^^^^^^^^^^^^^\n",
      "KeyboardInterrupt\n"
     ]
    },
    {
     "ename": "KeyboardInterrupt",
     "evalue": "",
     "output_type": "error",
     "traceback": [
      "\u001B[0;31m---------------------------------------------------------------------------\u001B[0m",
      "\u001B[0;31mKeyboardInterrupt\u001B[0m                         Traceback (most recent call last)",
      "Cell \u001B[0;32mIn[20], line 2\u001B[0m\n\u001B[1;32m      1\u001B[0m \u001B[38;5;28;01mif\u001B[39;00m \u001B[38;5;18m__name__\u001B[39m \u001B[38;5;241m==\u001B[39m \u001B[38;5;124m\"\u001B[39m\u001B[38;5;124m__main__\u001B[39m\u001B[38;5;124m\"\u001B[39m:\n\u001B[0;32m----> 2\u001B[0m     \u001B[43mmain\u001B[49m\u001B[43m(\u001B[49m\u001B[43m)\u001B[49m\n\u001B[1;32m      3\u001B[0m     exit()\n",
      "Cell \u001B[0;32mIn[19], line 20\u001B[0m, in \u001B[0;36mmain\u001B[0;34m()\u001B[0m\n\u001B[1;32m     13\u001B[0m grid_search_list \u001B[38;5;241m=\u001B[39m [[\u001B[38;5;124m\"\u001B[39m\u001B[38;5;124mTF-IDF\u001B[39m\u001B[38;5;124m\"\u001B[39m, \u001B[38;5;241m0.7\u001B[39m],\n\u001B[1;32m     14\u001B[0m                     [\u001B[38;5;124m\"\u001B[39m\u001B[38;5;124mTF-IDF\u001B[39m\u001B[38;5;124m\"\u001B[39m, \u001B[38;5;241m0.8\u001B[39m],\n\u001B[1;32m     15\u001B[0m                     [\u001B[38;5;124m\"\u001B[39m\u001B[38;5;124mTF-IDF\u001B[39m\u001B[38;5;124m\"\u001B[39m, \u001B[38;5;241m0.9\u001B[39m],\n\u001B[1;32m     16\u001B[0m                     [\u001B[38;5;124m\"\u001B[39m\u001B[38;5;124mTF-IDF\u001B[39m\u001B[38;5;124m\"\u001B[39m, \u001B[38;5;241m0.95\u001B[39m],\n\u001B[1;32m     17\u001B[0m                     [\u001B[38;5;124m\"\u001B[39m\u001B[38;5;124mTF-IDF\u001B[39m\u001B[38;5;124m\"\u001B[39m, \u001B[38;5;241m1.0\u001B[39m]]\n\u001B[1;32m     19\u001B[0m \u001B[38;5;28;01mwith\u001B[39;00m multiprocessing\u001B[38;5;241m.\u001B[39mPool(processes \u001B[38;5;241m=\u001B[39m num_cores) \u001B[38;5;28;01mas\u001B[39;00m pool:\n\u001B[0;32m---> 20\u001B[0m     \u001B[43mpool\u001B[49m\u001B[38;5;241;43m.\u001B[39;49m\u001B[43mmap\u001B[49m\u001B[43m(\u001B[49m\u001B[43mfull_run\u001B[49m\u001B[43m,\u001B[49m\u001B[43m \u001B[49m\u001B[43mgrid_search_list\u001B[49m\u001B[43m)\u001B[49m\n",
      "File \u001B[0;32m~/.pyenv/versions/3.11.6/lib/python3.11/multiprocessing/pool.py:367\u001B[0m, in \u001B[0;36mPool.map\u001B[0;34m(self, func, iterable, chunksize)\u001B[0m\n\u001B[1;32m    362\u001B[0m \u001B[38;5;28;01mdef\u001B[39;00m \u001B[38;5;21mmap\u001B[39m(\u001B[38;5;28mself\u001B[39m, func, iterable, chunksize\u001B[38;5;241m=\u001B[39m\u001B[38;5;28;01mNone\u001B[39;00m):\n\u001B[1;32m    363\u001B[0m \u001B[38;5;250m    \u001B[39m\u001B[38;5;124;03m'''\u001B[39;00m\n\u001B[1;32m    364\u001B[0m \u001B[38;5;124;03m    Apply `func` to each element in `iterable`, collecting the results\u001B[39;00m\n\u001B[1;32m    365\u001B[0m \u001B[38;5;124;03m    in a list that is returned.\u001B[39;00m\n\u001B[1;32m    366\u001B[0m \u001B[38;5;124;03m    '''\u001B[39;00m\n\u001B[0;32m--> 367\u001B[0m     \u001B[38;5;28;01mreturn\u001B[39;00m \u001B[38;5;28;43mself\u001B[39;49m\u001B[38;5;241;43m.\u001B[39;49m\u001B[43m_map_async\u001B[49m\u001B[43m(\u001B[49m\u001B[43mfunc\u001B[49m\u001B[43m,\u001B[49m\u001B[43m \u001B[49m\u001B[43miterable\u001B[49m\u001B[43m,\u001B[49m\u001B[43m \u001B[49m\u001B[43mmapstar\u001B[49m\u001B[43m,\u001B[49m\u001B[43m \u001B[49m\u001B[43mchunksize\u001B[49m\u001B[43m)\u001B[49m\u001B[38;5;241;43m.\u001B[39;49m\u001B[43mget\u001B[49m\u001B[43m(\u001B[49m\u001B[43m)\u001B[49m\n",
      "File \u001B[0;32m~/.pyenv/versions/3.11.6/lib/python3.11/multiprocessing/pool.py:768\u001B[0m, in \u001B[0;36mApplyResult.get\u001B[0;34m(self, timeout)\u001B[0m\n\u001B[1;32m    767\u001B[0m \u001B[38;5;28;01mdef\u001B[39;00m \u001B[38;5;21mget\u001B[39m(\u001B[38;5;28mself\u001B[39m, timeout\u001B[38;5;241m=\u001B[39m\u001B[38;5;28;01mNone\u001B[39;00m):\n\u001B[0;32m--> 768\u001B[0m     \u001B[38;5;28;43mself\u001B[39;49m\u001B[38;5;241;43m.\u001B[39;49m\u001B[43mwait\u001B[49m\u001B[43m(\u001B[49m\u001B[43mtimeout\u001B[49m\u001B[43m)\u001B[49m\n\u001B[1;32m    769\u001B[0m     \u001B[38;5;28;01mif\u001B[39;00m \u001B[38;5;129;01mnot\u001B[39;00m \u001B[38;5;28mself\u001B[39m\u001B[38;5;241m.\u001B[39mready():\n\u001B[1;32m    770\u001B[0m         \u001B[38;5;28;01mraise\u001B[39;00m \u001B[38;5;167;01mTimeoutError\u001B[39;00m\n",
      "File \u001B[0;32m~/.pyenv/versions/3.11.6/lib/python3.11/multiprocessing/pool.py:765\u001B[0m, in \u001B[0;36mApplyResult.wait\u001B[0;34m(self, timeout)\u001B[0m\n\u001B[1;32m    764\u001B[0m \u001B[38;5;28;01mdef\u001B[39;00m \u001B[38;5;21mwait\u001B[39m(\u001B[38;5;28mself\u001B[39m, timeout\u001B[38;5;241m=\u001B[39m\u001B[38;5;28;01mNone\u001B[39;00m):\n\u001B[0;32m--> 765\u001B[0m     \u001B[38;5;28;43mself\u001B[39;49m\u001B[38;5;241;43m.\u001B[39;49m\u001B[43m_event\u001B[49m\u001B[38;5;241;43m.\u001B[39;49m\u001B[43mwait\u001B[49m\u001B[43m(\u001B[49m\u001B[43mtimeout\u001B[49m\u001B[43m)\u001B[49m\n",
      "File \u001B[0;32m~/.pyenv/versions/3.11.6/lib/python3.11/threading.py:629\u001B[0m, in \u001B[0;36mEvent.wait\u001B[0;34m(self, timeout)\u001B[0m\n\u001B[1;32m    627\u001B[0m signaled \u001B[38;5;241m=\u001B[39m \u001B[38;5;28mself\u001B[39m\u001B[38;5;241m.\u001B[39m_flag\n\u001B[1;32m    628\u001B[0m \u001B[38;5;28;01mif\u001B[39;00m \u001B[38;5;129;01mnot\u001B[39;00m signaled:\n\u001B[0;32m--> 629\u001B[0m     signaled \u001B[38;5;241m=\u001B[39m \u001B[38;5;28;43mself\u001B[39;49m\u001B[38;5;241;43m.\u001B[39;49m\u001B[43m_cond\u001B[49m\u001B[38;5;241;43m.\u001B[39;49m\u001B[43mwait\u001B[49m\u001B[43m(\u001B[49m\u001B[43mtimeout\u001B[49m\u001B[43m)\u001B[49m\n\u001B[1;32m    630\u001B[0m \u001B[38;5;28;01mreturn\u001B[39;00m signaled\n",
      "File \u001B[0;32m~/.pyenv/versions/3.11.6/lib/python3.11/threading.py:327\u001B[0m, in \u001B[0;36mCondition.wait\u001B[0;34m(self, timeout)\u001B[0m\n\u001B[1;32m    325\u001B[0m \u001B[38;5;28;01mtry\u001B[39;00m:    \u001B[38;5;66;03m# restore state no matter what (e.g., KeyboardInterrupt)\u001B[39;00m\n\u001B[1;32m    326\u001B[0m     \u001B[38;5;28;01mif\u001B[39;00m timeout \u001B[38;5;129;01mis\u001B[39;00m \u001B[38;5;28;01mNone\u001B[39;00m:\n\u001B[0;32m--> 327\u001B[0m         \u001B[43mwaiter\u001B[49m\u001B[38;5;241;43m.\u001B[39;49m\u001B[43macquire\u001B[49m\u001B[43m(\u001B[49m\u001B[43m)\u001B[49m\n\u001B[1;32m    328\u001B[0m         gotit \u001B[38;5;241m=\u001B[39m \u001B[38;5;28;01mTrue\u001B[39;00m\n\u001B[1;32m    329\u001B[0m     \u001B[38;5;28;01melse\u001B[39;00m:\n",
      "\u001B[0;31mKeyboardInterrupt\u001B[0m: "
     ]
    }
   ],
   "source": [
    "if __name__ == \"__main__\":\n",
    "    main()\n",
    "    exit()"
   ],
   "metadata": {
    "collapsed": false,
    "ExecuteTime": {
     "end_time": "2024-02-20T04:38:48.371124Z",
     "start_time": "2024-02-20T04:38:24.005993Z"
    }
   },
   "id": "95141b462a78fb07"
  },
  {
   "cell_type": "code",
   "execution_count": null,
   "outputs": [],
   "source": [],
   "metadata": {
    "collapsed": false
   },
   "id": "27d32c8c7259148"
  }
 ],
 "metadata": {
  "kernelspec": {
   "display_name": "Python 3",
   "language": "python",
   "name": "python3"
  },
  "language_info": {
   "codemirror_mode": {
    "name": "ipython",
    "version": 2
   },
   "file_extension": ".py",
   "mimetype": "text/x-python",
   "name": "python",
   "nbconvert_exporter": "python",
   "pygments_lexer": "ipython2",
   "version": "2.7.6"
  }
 },
 "nbformat": 4,
 "nbformat_minor": 5
}
